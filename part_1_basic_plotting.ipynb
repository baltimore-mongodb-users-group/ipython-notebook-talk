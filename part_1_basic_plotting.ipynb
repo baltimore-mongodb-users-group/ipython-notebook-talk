{
 "metadata": {
  "name": ""
 },
 "nbformat": 3,
 "nbformat_minor": 0,
 "worksheets": [
  {
   "cells": [
    {
     "cell_type": "markdown",
     "metadata": {},
     "source": [
      "# Part 1: Basic Plotting #\n",
      "\n",
      "## Connecting to Mongo, Basic Inspection ##\n",
      "\n",
      "First things first, let's connect to Mongo and take a peek at our data. This notebook assumes you have already loaded the appropriate data into a local Mongo database&mdash;if not, see Part 0."
     ]
    },
    {
     "cell_type": "code",
     "collapsed": false,
     "input": [
      "from pymongo import MongoClient\n",
      "\n",
      "mongo_client = MongoClient()\n",
      "db = mongo_client.october_mug_talk"
     ],
     "language": "python",
     "metadata": {
      "slideshow": {
       "slide_type": "-"
      }
     },
     "outputs": [],
     "prompt_number": 1
    },
    {
     "cell_type": "markdown",
     "metadata": {},
     "source": [
      "Now that we have a handle to the database, what collections do we have?"
     ]
    },
    {
     "cell_type": "code",
     "collapsed": false,
     "input": [
      "print ', '.join(db.collection_names())"
     ],
     "language": "python",
     "metadata": {},
     "outputs": [
      {
       "output_type": "stream",
       "stream": "stdout",
       "text": [
        "system.indexes, vehicles\n"
       ]
      }
     ],
     "prompt_number": 2
    },
    {
     "cell_type": "markdown",
     "metadata": {},
     "source": [
      "We're interested in the `vehicles` collection, of course. Let's take a look at one record:"
     ]
    },
    {
     "cell_type": "code",
     "collapsed": false,
     "input": [
      "db.vehicles.find_one()"
     ],
     "language": "python",
     "metadata": {},
     "outputs": [
      {
       "metadata": {},
       "output_type": "pyout",
       "prompt_number": 3,
       "text": [
        "{u'UCity': u'23.3333',\n",
        " u'UCityA': u'0.0',\n",
        " u'UHighway': u'35.0',\n",
        " u'UHighwayA': u'0.0',\n",
        " u'VClass': u'Two Seaters',\n",
        " u'_id': ObjectId('527979eb98e9140399e2fb6f'),\n",
        " u'atvType': u'',\n",
        " u'barrels08': u'15.689436',\n",
        " u'barrelsA08': u'0.0',\n",
        " u'charge120': u'0.0',\n",
        " u'charge240': u'0.0',\n",
        " u'city08': u'19',\n",
        " u'city08U': u'0.0',\n",
        " u'cityA08': u'0',\n",
        " u'cityA08U': u'0.0',\n",
        " u'cityCD': u'0.0',\n",
        " u'cityE': u'0.0',\n",
        " u'cityUF': u'0.0',\n",
        " u'co2': u'-1',\n",
        " u'co2A': u'-1',\n",
        " u'co2TailpipeAGpm': u'0.0',\n",
        " u'co2TailpipeGpm': u'423.1904761904762',\n",
        " u'comb08': u'21',\n",
        " u'comb08U': u'0.0',\n",
        " u'combA08': u'0',\n",
        " u'combA08U': u'0.0',\n",
        " u'combE': u'0.0',\n",
        " u'combinedCD': u'0.0',\n",
        " u'combinedUF': u'0.0',\n",
        " u'cylinders': u'4',\n",
        " u'displ': u'2.0',\n",
        " u'drive': u'Rear-Wheel Drive',\n",
        " u'engId': u'9011',\n",
        " u'eng_dscr': u'(FFS)',\n",
        " u'evMotor': u'',\n",
        " u'feScore': u'-1',\n",
        " u'fuelCost08': u'2500',\n",
        " u'fuelCostA08': u'0',\n",
        " u'fuelType': u'Regular',\n",
        " u'fuelType1': u'Regular Gasoline',\n",
        " u'fuelType2': u'',\n",
        " u'ghgScore': u'-1',\n",
        " u'ghgScoreA': u'-1',\n",
        " u'guzzler': u'',\n",
        " u'highway08': u'25',\n",
        " u'highway08U': u'0.0',\n",
        " u'highwayA08': u'0',\n",
        " u'highwayA08U': u'0.0',\n",
        " u'highwayCD': u'0.0',\n",
        " u'highwayE': u'0.0',\n",
        " u'highwayUF': u'0.0',\n",
        " u'hlv': u'0',\n",
        " u'hpv': u'0',\n",
        " u'id': u'1',\n",
        " u'lv2': u'0',\n",
        " u'lv4': u'0',\n",
        " u'make': u'Alfa Romeo',\n",
        " u'mfrCode': u'',\n",
        " u'model': u'Spider Veloce 2000',\n",
        " u'mpgData': u'Y',\n",
        " u'phevBlended': u'false',\n",
        " u'pv2': u'0',\n",
        " u'pv4': u'0',\n",
        " u'range': u'0',\n",
        " u'rangeA': u'',\n",
        " u'rangeCity': u'0.0',\n",
        " u'rangeCityA': u'0.0',\n",
        " u'rangeHwy': u'0.0',\n",
        " u'rangeHwyA': u'0.0',\n",
        " u'sCharger': u'',\n",
        " u'tCharger': u'',\n",
        " u'trans_dscr': u'',\n",
        " u'trany': u'Manual 5-spd',\n",
        " u'year': u'1985',\n",
        " u'youSaveSpend': u'-1000'}"
       ]
      }
     ],
     "prompt_number": 3
    },
    {
     "cell_type": "markdown",
     "metadata": {},
     "source": [
      "iPython has kindly pretty-printed that for us, but it's still not so easy on the eyes. Let's help ourselves out a bit."
     ]
    },
    {
     "cell_type": "code",
     "collapsed": false,
     "input": [
      "def pretty_print_flat_object(obj):\n",
      "    max_key_width = max(len(field) for field in obj.iterkeys())\n",
      "    for field in vehicle.iterkeys():\n",
      "        print \"{:>{width}}: {}\".format(field, vehicle[field], width=max_key_width)\n",
      "\n",
      "vehicle = db.vehicles.find_one()\n",
      "pretty_print_flat_object(vehicle)"
     ],
     "language": "python",
     "metadata": {},
     "outputs": [
      {
       "output_type": "stream",
       "stream": "stdout",
       "text": [
        "      UHighwayA: 0.0\n",
        "      charge240: 0.0\n",
        "      fuelType1: Regular Gasoline\n",
        "         cityCD: 0.0\n",
        "     trans_dscr: \n",
        "            hlv: 0\n",
        "        guzzler: \n",
        "        city08U: 0.0\n",
        "co2TailpipeAGpm: 0.0\n",
        "        combA08: 0\n",
        "         cityUF: 0.0\n",
        "     barrelsA08: 0.0\n",
        "           year: 1985\n",
        "          range: 0\n",
        "    phevBlended: false\n",
        "        comb08U: 0.0\n",
        "       fuelType: Regular\n",
        "          combE: 0.0\n",
        "       sCharger: \n",
        "        feScore: -1\n",
        "            lv4: 0\n",
        "         city08: 19\n",
        "     highway08U: 0.0\n",
        "        mpgData: Y\n",
        "      charge120: 0.0\n",
        "            lv2: 0\n",
        "    highwayA08U: 0.0\n",
        "        mfrCode: \n",
        "           make: Alfa Romeo\n",
        "        evMotor: \n",
        "            hpv: 0\n",
        "       ghgScore: -1\n",
        "             id: 1\n",
        "          displ: 2.0\n",
        "      highwayCD: 0.0\n",
        "     fuelCost08: 2500\n",
        "         comb08: 21\n",
        "      ghgScoreA: -1\n",
        "      rangeCity: 0.0\n",
        "       cityA08U: 0.0\n",
        "            pv2: 0\n",
        "            pv4: 0\n",
        "       rangeHwy: 0.0\n",
        "     rangeCityA: 0.0\n",
        "       eng_dscr: (FFS)\n",
        "          engId: 9011\n",
        "        cityA08: 0\n",
        "     combinedCD: 0.0\n",
        "            co2: -1\n",
        "       combA08U: 0.0\n",
        "     highwayA08: 0\n",
        " co2TailpipeGpm: 423.1904761904762\n",
        "    fuelCostA08: 0\n",
        "        atvType: \n",
        "      barrels08: 15.689436\n",
        "           co2A: -1\n",
        "      highway08: 25\n",
        "         VClass: Two Seaters\n",
        "         rangeA: \n",
        "      cylinders: 4\n",
        "       highwayE: 0.0\n",
        "       UHighway: 35.0\n",
        "   youSaveSpend: -1000\n",
        "          drive: Rear-Wheel Drive\n",
        "          cityE: 0.0\n",
        "          trany: Manual 5-spd\n",
        "       tCharger: \n",
        "      rangeHwyA: 0.0\n",
        "      fuelType2: \n",
        "      highwayUF: 0.0\n",
        "         UCityA: 0.0\n",
        "          model: Spider Veloce 2000\n",
        "            _id: 527979eb98e9140399e2fb6f\n",
        "     combinedUF: 0.0\n",
        "          UCity: 23.3333\n"
       ]
      }
     ],
     "prompt_number": 4
    },
    {
     "cell_type": "markdown",
     "metadata": {
      "slideshow": {
       "slide_type": "-"
      }
     },
     "source": [
      "How many documents are in the collection?"
     ]
    },
    {
     "cell_type": "code",
     "collapsed": false,
     "input": [
      "db.vehicles.count()"
     ],
     "language": "python",
     "metadata": {},
     "outputs": [
      {
       "metadata": {},
       "output_type": "pyout",
       "prompt_number": 5,
       "text": [
        "34174"
       ]
      }
     ],
     "prompt_number": 5
    },
    {
     "cell_type": "markdown",
     "metadata": {},
     "source": [
      "## Loading Data for Plotting ##\n",
      "\n",
      "Starting simple, let's plot a histogram of the vehicle models by year. Of course, before we can plot the histogram we'll need to compute it. We'll load just the model year from each vehicle model and put them into a `Counter`."
     ]
    },
    {
     "cell_type": "code",
     "collapsed": false,
     "input": [
      "cursor = db.vehicles.find({}, ['year'])\n",
      "\n",
      "from collections import Counter\n",
      "counts_by_year = Counter(int(vehicle['year']) for vehicle in cursor)"
     ],
     "language": "python",
     "metadata": {},
     "outputs": [],
     "prompt_number": 6
    },
    {
     "cell_type": "markdown",
     "metadata": {},
     "source": [
      "Let's take a peek at what we've got..."
     ]
    },
    {
     "cell_type": "code",
     "collapsed": false,
     "input": [
      "print \"{} vehicle models for {}\".format(counts_by_year[1990], 1990)\n",
      "print \"{} vehicle models for {}\".format(counts_by_year[2000], 2000)\n",
      "print \"{} vehicle models for {}\".format(counts_by_year[2010], 2010)"
     ],
     "language": "python",
     "metadata": {},
     "outputs": [
      {
       "output_type": "stream",
       "stream": "stdout",
       "text": [
        "1078 vehicle models for 1990\n",
        "840 vehicle models for 2000\n",
        "1109 vehicle models for 2010\n"
       ]
      }
     ],
     "prompt_number": 7
    },
    {
     "cell_type": "markdown",
     "metadata": {},
     "source": [
      "...and make sure our `Counter` accounts for everything:"
     ]
    },
    {
     "cell_type": "code",
     "collapsed": false,
     "input": [
      "print sum(counts_by_year.values())"
     ],
     "language": "python",
     "metadata": {},
     "outputs": [
      {
       "output_type": "stream",
       "stream": "stdout",
       "text": [
        "34174\n"
       ]
      }
     ],
     "prompt_number": 8
    },
    {
     "cell_type": "markdown",
     "metadata": {},
     "source": [
      "Awesome. Now we can plot."
     ]
    },
    {
     "cell_type": "markdown",
     "metadata": {},
     "source": [
      "## Plotting Your Data ##\n",
      "\n",
      "iPython has great support for `matplotlib.pyplot`. Unless you're intimately familiar with that library, you'll want to refer to [pyplot's documentation](http://matplotlib.org/api/pyplot_api.html).\n",
      "\n",
      "We'll start by importing `matplotlib.pyplot` under the conventional name `plt`."
     ]
    },
    {
     "cell_type": "code",
     "collapsed": false,
     "input": [
      "import matplotlib.pyplot as plt"
     ],
     "language": "python",
     "metadata": {
      "slideshow": {
       "slide_type": "-"
      }
     },
     "outputs": [],
     "prompt_number": 9
    },
    {
     "cell_type": "markdown",
     "metadata": {},
     "source": [
      "### Starting Simple: The Box Plot ###\n",
      "\n",
      "Box plots are a fast way to get a sense for a distribution of values. Let's do a simple box plot of our counts by year:"
     ]
    },
    {
     "cell_type": "code",
     "collapsed": false,
     "input": [
      "plt.boxplot(counts_by_year.values())"
     ],
     "language": "python",
     "metadata": {},
     "outputs": [
      {
       "metadata": {},
       "output_type": "pyout",
       "prompt_number": 10,
       "text": [
        "{'boxes': [<matplotlib.lines.Line2D at 0x1104a2310>],\n",
        " 'caps': [<matplotlib.lines.Line2D at 0x10f670650>,\n",
        "  <matplotlib.lines.Line2D at 0x10f670c90>],\n",
        " 'fliers': [<matplotlib.lines.Line2D at 0x1104a2f90>,\n",
        "  <matplotlib.lines.Line2D at 0x1104a45d0>],\n",
        " 'medians': [<matplotlib.lines.Line2D at 0x1104a2950>],\n",
        " 'whiskers': [<matplotlib.lines.Line2D at 0x10f673cd0>,\n",
        "  <matplotlib.lines.Line2D at 0x10f673f50>]}"
       ]
      },
      {
       "metadata": {},
       "output_type": "display_data",
       "png": "[encoded data removed]",
       "text": [
        "<matplotlib.figure.Figure at 0x10f651dd0>"
       ]
      }
     ],
     "prompt_number": 10
    },
    {
     "cell_type": "markdown",
     "metadata": {},
     "source": [
      "If you're not familiar with box plots, here's what you're looking at:\n",
      "\n",
      "* The red line represents the median value\n",
      "* The blue box represents the lower to upper quartile range. (The 25%\u201375% range.)\n",
      "* The whiskers extend to the most extreme values still within 1.5 IQR of the quartile they extend from.\n",
      "* The blue crosses are the \"fliers\", a.k.a. outliers."
     ]
    },
    {
     "cell_type": "markdown",
     "metadata": {},
     "source": [
      "### Adding a Second Dimension: The Bar Chart ###\n",
      "\n",
      "Creating a basic bar chart is very simple, though: just pass the x-values as the first argument and the y-values as the second argument:"
     ]
    },
    {
     "cell_type": "code",
     "collapsed": false,
     "input": [
      "plt.bar(counts_by_year.keys(), counts_by_year.values())"
     ],
     "language": "python",
     "metadata": {
      "slideshow": {
       "slide_type": "-"
      }
     },
     "outputs": [
      {
       "metadata": {},
       "output_type": "pyout",
       "prompt_number": 11,
       "text": [
        "<Container object of 31 artists>"
       ]
      },
      {
       "metadata": {},
       "output_type": "display_data",
       "png": "[encoded data removed]",
       "text": [
        "<matplotlib.figure.Figure at 0x10f695bd0>"
       ]
      }
     ],
     "prompt_number": 11
    },
    {
     "cell_type": "markdown",
     "metadata": {},
     "source": [
      "After a few moments basking in the simplicity of creating that bar chart, you'll notice that it's actually kind of ugly. The defaults aren't the best, at least for this particular plot. We have a gap at the low end (due to auto-scaling), and the figure is awfully narrow for the data. Let's fix these problems."
     ]
    },
    {
     "cell_type": "code",
     "collapsed": false,
     "input": [
      "# Manually create the figure to be 16x4 inches (default is 6x4). Default DPI is 80.\n",
      "plt.figure(figsize=(16, 4))\n",
      "# Autoscale is already on, but we call this so that we can set the third argument, \"tight\", to True for the x-axis.\n",
      "plt.autoscale(True, 'x', True)\n",
      "plt.bar(counts_by_year.keys(), counts_by_year.values())\n",
      "# Suppress the \"<Container object of 31 artists>\" caused by iPython automatically printing the return value of the last statement.\n",
      "pass"
     ],
     "language": "python",
     "metadata": {},
     "outputs": [
      {
       "metadata": {},
       "output_type": "display_data",
       "png": "[encoded data removed]",
       "text": [
        "<matplotlib.figure.Figure at 0x1104dab50>"
       ]
      }
     ],
     "prompt_number": 12
    },
    {
     "cell_type": "markdown",
     "metadata": {},
     "source": [
      "Much better, but there are still a few issues. It's hard to tell what year each bar is actually associated with, so let's center the bars over their value on the x-axis.\n",
      "\n",
      "Also, even though we only intended to enable \"tight\" axis bounds for the x-axis, it's been enabled for the y-axis also. (Notice we lost the \"2000\" label at the top left.) I couldn't figure out how to fix that problem, but it turns out that if we use actual `date`s for the x-axis then we don't need to enable tight bounds."
     ]
    },
    {
     "cell_type": "code",
     "collapsed": false,
     "input": [
      "from datetime import date\n",
      "dates = [date(year, 1, 1) for year in counts_by_year.iterkeys()]\n",
      "\n",
      "plt.figure(figsize=(16,4))\n",
      "# Note that we have to set the bar width manually now. Default is 0.8, but now our scale is in days so we multiply by 365.\n",
      "# Setting align='center' will cause the bars to be centered over the value they represent.\n",
      "plt.bar(dates, counts_by_year.values(), 365*0.8, align='center')\n",
      "pass"
     ],
     "language": "python",
     "metadata": {},
     "outputs": [
      {
       "metadata": {},
       "output_type": "display_data",
       "png": "[encoded data removed]",
       "text": [
        "<matplotlib.figure.Figure at 0x1103a48d0>"
       ]
      }
     ],
     "prompt_number": 13
    },
    {
     "cell_type": "markdown",
     "metadata": {},
     "source": [
      "## Making it Prettier ##\n",
      "\n",
      "Still not good enough for you? Okay, fine. Let's do cool diagonal dates, add a title, and set a better default color for our bar charts."
     ]
    },
    {
     "cell_type": "code",
     "collapsed": false,
     "input": [
      "# We can set the color when plotting a bar chart, but that doesn't stick around.\n",
      "# Instaed, we'll set the default color for patches, which are used to draw bars in bar charts.\n",
      "# The colors were grabbed from the front page of mongodb.com.\n",
      "plt.rc('patch', facecolor='#6CA439', edgecolor='#517B2B', linewidth=2)\n",
      "\n",
      "figure = plt.figure(figsize=(16,4))\n",
      "# Explicitly set the tick locations and text.\n",
      "plt.xticks(dates, [str(d.year) for d in dates])\n",
      "# Tell matplotlib to \"auto-format\" the ticks, which will put them on a diagonal so they don't overlap.\n",
      "figure.autofmt_xdate()\n",
      "# Note that we have to set the bar width manually now. Default is 0.8, but now our scale is in days so we multiply by 365.\n",
      "plt.bar(dates, counts_by_year.values(), 365*0.8, align='center')\n",
      "plt.title(\"Number of Vehicle Models Represented for Each Model-Year\")\n",
      "pass"
     ],
     "language": "python",
     "metadata": {},
     "outputs": [
      {
       "metadata": {},
       "output_type": "display_data",
       "png": "[encoded data removed]",
       "text": [
        "<matplotlib.figure.Figure at 0x11047bcd0>"
       ]
      }
     ],
     "prompt_number": 14
    }
   ],
   "metadata": {}
  }
 ]
}