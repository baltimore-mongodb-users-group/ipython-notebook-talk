{
 "metadata": {
  "name": ""
 },
 "nbformat": 3,
 "nbformat_minor": 0,
 "worksheets": [
  {
   "cells": [
    {
     "cell_type": "markdown",
     "metadata": {},
     "source": [
      "# Part 1: Basic Plotting #\n",
      "\n",
      "## Connecting to Mongo, Basic Inspection ##\n",
      "\n",
      "First things first, let's connect to Mongo and take a peek at our data. This notebook assumes you have already loaded the appropriate data into a local Mongo database&mdash;if not, see Part 0."
     ]
    },
    {
     "cell_type": "code",
     "collapsed": false,
     "input": [
      "from pymongo import MongoClient\n",
      "\n",
      "mongo_client = MongoClient()\n",
      "db = mongo_client.october_mug_talk"
     ],
     "language": "python",
     "metadata": {
      "slideshow": {
       "slide_type": "-"
      }
     },
     "outputs": []
    },
    {
     "cell_type": "markdown",
     "metadata": {},
     "source": [
      "Now that we have a handle to the database, what collections do we have?"
     ]
    },
    {
     "cell_type": "code",
     "collapsed": false,
     "input": [
      "print ', '.join(db.collection_names())"
     ],
     "language": "python",
     "metadata": {},
     "outputs": []
    },
    {
     "cell_type": "markdown",
     "metadata": {},
     "source": [
      "We're interested in the `vehicles` collection, of course. Let's take a look at one record:"
     ]
    },
    {
     "cell_type": "code",
     "collapsed": false,
     "input": [
      "db.vehicles.find_one()"
     ],
     "language": "python",
     "metadata": {},
     "outputs": []
    },
    {
     "cell_type": "markdown",
     "metadata": {},
     "source": [
      "iPython has kindly pretty-printed that for us, but it's still not so easy on the eyes. Let's help ourselves out a bit."
     ]
    },
    {
     "cell_type": "code",
     "collapsed": false,
     "input": [
      "def pretty_print_flat_object(obj):\n",
      "    max_key_width = max(len(field) for field in obj.iterkeys())\n",
      "    for field in vehicle.iterkeys():\n",
      "        print \"{:>{width}}: {}\".format(field, vehicle[field], width=max_key_width)\n",
      "\n",
      "vehicle = db.vehicles.find_one()\n",
      "pretty_print_flat_object(vehicle)"
     ],
     "language": "python",
     "metadata": {},
     "outputs": []
    },
    {
     "cell_type": "markdown",
     "metadata": {
      "slideshow": {
       "slide_type": "-"
      }
     },
     "source": [
      "How many documents are in the collection?"
     ]
    },
    {
     "cell_type": "code",
     "collapsed": false,
     "input": [
      "db.vehicles.count()"
     ],
     "language": "python",
     "metadata": {},
     "outputs": []
    },
    {
     "cell_type": "markdown",
     "metadata": {},
     "source": [
      "## Loading Data for Plotting ##\n",
      "\n",
      "Starting simple, let's plot a histogram of the vehicle models by year. Of course, before we can plot the histogram we'll need to compute it. We'll load just the model year from each vehicle model and put them into a `Counter`."
     ]
    },
    {
     "cell_type": "code",
     "collapsed": false,
     "input": [
      "cursor = db.vehicles.find({}, ['year'])\n",
      "\n",
      "from collections import Counter\n",
      "counts_by_year = Counter(int(vehicle['year']) for vehicle in cursor)"
     ],
     "language": "python",
     "metadata": {},
     "outputs": []
    },
    {
     "cell_type": "markdown",
     "metadata": {},
     "source": [
      "Let's take a peek at what we've got..."
     ]
    },
    {
     "cell_type": "code",
     "collapsed": false,
     "input": [
      "print \"{} vehicle models for {}\".format(counts_by_year[1990], 1990)\n",
      "print \"{} vehicle models for {}\".format(counts_by_year[2000], 2000)\n",
      "print \"{} vehicle models for {}\".format(counts_by_year[2010], 2010)"
     ],
     "language": "python",
     "metadata": {},
     "outputs": []
    },
    {
     "cell_type": "markdown",
     "metadata": {},
     "source": [
      "...and make sure our `Counter` accounts for everything:"
     ]
    },
    {
     "cell_type": "code",
     "collapsed": false,
     "input": [
      "print sum(counts_by_year.values())"
     ],
     "language": "python",
     "metadata": {},
     "outputs": []
    },
    {
     "cell_type": "markdown",
     "metadata": {},
     "source": [
      "Awesome. Now we can plot."
     ]
    },
    {
     "cell_type": "markdown",
     "metadata": {},
     "source": [
      "## Plotting Your Data ##\n",
      "\n",
      "iPython has great support for `matplotlib.pyplot`. Unless you're intimately familiar with that library, you'll want to refer to [pyplot's documentation](http://matplotlib.org/api/pyplot_api.html).\n",
      "\n",
      "We'll start by importing `matplotlib.pyplot` under the conventional name `plt`."
     ]
    },
    {
     "cell_type": "code",
     "collapsed": false,
     "input": [
      "import matplotlib.pyplot as plt"
     ],
     "language": "python",
     "metadata": {
      "slideshow": {
       "slide_type": "-"
      }
     },
     "outputs": []
    },
    {
     "cell_type": "markdown",
     "metadata": {},
     "source": [
      "### Starting Simple: The Box Plot ###\n",
      "\n",
      "Box plots are a fast way to get a sense for a distribution of values. Let's do a simple box plot of our counts by year:"
     ]
    },
    {
     "cell_type": "code",
     "collapsed": false,
     "input": [
      "plt.boxplot(counts_by_year.values())"
     ],
     "language": "python",
     "metadata": {},
     "outputs": []
    },
    {
     "cell_type": "markdown",
     "metadata": {},
     "source": [
      "If you're not familiar with box plots, here's what you're looking at:\n",
      "\n",
      "* The red line represents the median value\n",
      "* The blue box represents the lower to upper quartile range. (The 25%\u201375% range.)\n",
      "* The whiskers extend to the most extreme values still within 1.5 IQR of the quartile they extend from.\n",
      "* The blue crosses are the \"fliers\", a.k.a. outliers."
     ]
    },
    {
     "cell_type": "markdown",
     "metadata": {},
     "source": [
      "### Adding a Second Dimension: The Bar Chart ###\n",
      "\n",
      "Creating a basic bar chart is very simple, though: just pass the x-values as the first argument and the y-values as the second argument:"
     ]
    },
    {
     "cell_type": "code",
     "collapsed": false,
     "input": [
      "import matplotlib.pyplot as plt\n",
      "plt.bar(counts_by_year.keys(), counts_by_year.values())"
     ],
     "language": "python",
     "metadata": {
      "slideshow": {
       "slide_type": "-"
      }
     },
     "outputs": []
    },
    {
     "cell_type": "markdown",
     "metadata": {},
     "source": [
      "After a few moments basking in the simplicity of creating that bar chart, you'll notice that it's actually kind of ugly. The defaults aren't the best, at least for this particular plot. We have a gap at the low end (due to auto-scaling), and the figure is awfully narrow for the data. Let's fix these problems."
     ]
    },
    {
     "cell_type": "code",
     "collapsed": false,
     "input": [
      "# Manually create the figure to be 16x4 inches (default is 6x4). Default DPI is 80.\n",
      "plt.figure(figsize=(16, 4))\n",
      "# Autoscale is already on, but we call this so that we can set the third argument, \"tight\", to True for the x-axis.\n",
      "plt.autoscale(True, 'x', True)\n",
      "plt.bar(counts_by_year.keys(), counts_by_year.values())\n",
      "# Suppress the \"<Container object of 31 artists>\" caused by iPython automatically printing the return value of the last statement.\n",
      "pass"
     ],
     "language": "python",
     "metadata": {},
     "outputs": []
    },
    {
     "cell_type": "markdown",
     "metadata": {},
     "source": [
      "Much better, but there are still a few issues. It's hard to tell what year each bar is actually associated with, so let's center the bars over their value on the x-axis.\n",
      "\n",
      "Also, even though we only intended to enable \"tight\" axis bounds for the x-axis, it's been enabled for the y-axis also. (Notice we lost the \"2000\" label at the top left.) I couldn't figure out how to fix that problem, but it turns out that if we use actual `date`s for the x-axis then we don't need to enable tight bounds."
     ]
    },
    {
     "cell_type": "code",
     "collapsed": false,
     "input": [
      "from datetime import date\n",
      "dates = [date(year, 1, 1) for year in counts_by_year.iterkeys()]\n",
      "\n",
      "plt.figure(figsize=(16,4))\n",
      "# Note that we have to set the bar width manually now. Default is 0.8, but now our scale is in days so we multiply by 365.\n",
      "# Setting align='center' will cause the bars to be centered over the value they represent.\n",
      "plt.bar(dates, counts_by_year.values(), 365*0.8, align='center')\n",
      "pass"
     ],
     "language": "python",
     "metadata": {},
     "outputs": []
    },
    {
     "cell_type": "markdown",
     "metadata": {},
     "source": [
      "## Making it Prettier ##\n",
      "\n",
      "Still not good enough for you? Okay, fine. Let's do cool diagonal dates, add a title, and set a better default color for our bar charts."
     ]
    },
    {
     "cell_type": "code",
     "collapsed": false,
     "input": [
      "# We can set the color when plotting a bar chart, but that doesn't stick around.\n",
      "# Instaed, we'll set the default color for patches, which are used to draw bars in bar charts.\n",
      "# The colors were grabbed from the front page of mongodb.com.\n",
      "plt.rc('patch', facecolor='#6CA439', edgecolor='#517B2B', linewidth=2)\n",
      "\n",
      "figure = plt.figure(figsize=(16,4))\n",
      "# Explicitly set the tick locations and text.\n",
      "plt.xticks(dates, [str(d.year) for d in dates])\n",
      "# Tell matplotlib to \"auto-format\" the ticks, which will put them on a diagonal so they don't overlap.\n",
      "figure.autofmt_xdate()\n",
      "# Note that we have to set the bar width manually now. Default is 0.8, but now our scale is in days so we multiply by 365.\n",
      "plt.bar(dates, counts_by_year.values(), 365*0.8, align='center')\n",
      "plt.title(\"Number of Vehicle Models Represented for Each Model-Year\")\n",
      "pass"
     ],
     "language": "python",
     "metadata": {},
     "outputs": []
    }
   ],
   "metadata": {}
  }
 ]
}