{
 "metadata": {
  "name": ""
 },
 "nbformat": 3,
 "nbformat_minor": 0,
 "worksheets": [
  {
   "cells": [
    {
     "cell_type": "markdown",
     "metadata": {},
     "source": [
      "# Part 2: Fancy Plotting #"
     ]
    },
    {
     "cell_type": "code",
     "collapsed": false,
     "input": [
      "# Initialize database\n",
      "from pymongo import MongoClient\n",
      "mongo_client = MongoClient()\n",
      "db = mongo_client.october_mug_talk\n",
      "\n",
      "# Initialize plotting\n",
      "colors = ['#6CA439', '#517B2B', '#36521D', '#007CC3']\n",
      "import matplotlib.pyplot as plt\n",
      "plt.rc('axes', facecolor='#FFFEEE', edgecolor='#4E3629')\n",
      "plt.rc('patch', facecolor='#6CA439', edgecolor='#517B2B', linewidth=0)\n",
      "plt.rc('figure', figsize=(16,6))\n",
      "plt.rc('font', size=14.0)\n",
      "plt.rc('axes', color_cycle=colors)\n",
      "plt.rc('lines', linewidth=4)\n",
      "\n",
      "# Other utilities\n",
      "import numpy as np\n",
      "from collections import Counter\n",
      "from datetime import date"
     ],
     "language": "python",
     "metadata": {
      "slideshow": {
       "slide_type": "-"
      }
     },
     "outputs": []
    },
    {
     "cell_type": "code",
     "collapsed": false,
     "input": [
      "round2 = lambda x: x - x%2\n",
      "def get_mpg_values(criteria={}):\n",
      "    return  (round2(int(vehicle['comb08'])) for vehicle in db.vehicles.find(criteria, ['comb08']))\n",
      "mpg_histogram = Counter(get_mpg_values())\n",
      "plt.bar(mpg_histogram.keys(), mpg_histogram.values(), 2*0.8, align='center')\n",
      "plt.title(\"Histogram of Combined MPG Rating Across All Models\")\n",
      "plt.xlabel(\"miles per gallon\")\n",
      "plt.ylabel(\"# of models\")\n",
      "plt.tight_layout()"
     ],
     "language": "python",
     "metadata": {},
     "outputs": []
    },
    {
     "cell_type": "code",
     "collapsed": false,
     "input": [
      "cylinders_cursor = db.vehicles.find({}, ['cylinders'])\n",
      "cylinders_values = (int(vehicle['cylinders']) for vehicle in cylinders_cursor if vehicle['cylinders'] not in ['', 'NA', '-'])\n",
      "cylinders_histogram = Counter(cylinders_values)\n",
      "print \"{} records include a valid 'cylinders' field\".format(sum(cylinders_histogram.values()))\n",
      "\n",
      "plt.bar(cylinders_histogram.keys(), cylinders_histogram.values(), align='center')\n",
      "plt.title(\"Histogram of # of Cylinders Across All Models\")\n",
      "plt.xlabel(\"# of cylinders\")\n",
      "plt.ylabel(\"# of models\")\n",
      "plt.tight_layout()"
     ],
     "language": "python",
     "metadata": {},
     "outputs": []
    },
    {
     "cell_type": "code",
     "collapsed": false,
     "input": [
      "cylinder_values_to_consider = ['4', '6', '8']\n",
      "\n",
      "fig, axes = plt.subplots(1, len(cylinder_values_to_consider), False, True, figsize=(16,6))\n",
      "\n",
      "plt.sca(axes[0])\n",
      "plt.ylabel(\"miles per gallon\")\n",
      "\n",
      "for cylinders, ax in zip(cylinder_values_to_consider, axes):\n",
      "    mpg_histogram = Counter(get_mpg_values({'cylinders': cylinders}))\n",
      "    plt.sca(ax)\n",
      "    plt.ylim(7, 43)\n",
      "    plt.yticks(arange(8, 44, 2))\n",
      "    plt.grid(True, 'major', 'y')\n",
      "    plt.title(\"{}-Cylinder Engines\".format(cylinders))\n",
      "    plt.xlabel(\"# of models\")\n",
      "    plt.barh(mpg_histogram.keys(), mpg_histogram.values(), 2*0.8, align='center')\n",
      "\n",
      "fig.tight_layout()"
     ],
     "language": "python",
     "metadata": {},
     "outputs": []
    },
    {
     "cell_type": "code",
     "collapsed": false,
     "input": [
      "cumulative = Counter()\n",
      "\n",
      "for cylinders, ax, color in zip(cylinder_values_to_consider, axes, colors):\n",
      "    mpg_histogram = Counter(get_mpg_values({'cylinders': cylinders}))\n",
      "    bottoms = [cumulative[k] for k in mpg_histogram.iterkeys()]\n",
      "    label = \"{}-cylinder engines\".format(cylinders)\n",
      "    plt.bar(mpg_histogram.keys(), mpg_histogram.values(), 2*0.8, bottoms, align='center', color=color, label=label)\n",
      "    cumulative += mpg_histogram\n",
      "plt.title(\"Stacked Histograms of Combined MPG Ratings for Various Engines\")\n",
      "plt.legend()\n",
      "plt.tight_layout()"
     ],
     "language": "python",
     "metadata": {},
     "outputs": []
    },
    {
     "cell_type": "code",
     "collapsed": false,
     "input": [
      "def plot_avg_mpg_by_year(label, query_criteria, marker='-'):\n",
      "    total_mpg_by_year = Counter()\n",
      "    total_vehicles_by_year = Counter()\n",
      "    for vehicle in db.vehicles.find(query_criteria, ['year', 'comb08']):\n",
      "        year = int(vehicle['year'])\n",
      "        mpg = int(vehicle['comb08'])\n",
      "        total_mpg_by_year[year] += mpg\n",
      "        total_vehicles_by_year[year] += 1\n",
      "    avg_mpg_by_year = {year:(total_mpg_by_year[year]/float(total_vehicles_by_year[year])) for year in total_mpg_by_year.iterkeys()}\n",
      "    dates = [date(year, 1, 1) for year in avg_mpg_by_year.iterkeys()]\n",
      "    plt.plot(dates, avg_mpg_by_year.values(), marker, label=label)\n",
      "\n",
      "plt.title(\"Average MPG for Various Engines Since 1984\")\n",
      "plot_avg_mpg_by_year('4-cylinder engines', {'cylinders': '4'})\n",
      "plot_avg_mpg_by_year('6-cylinder-engines', {'cylinders': '6'})\n",
      "plot_avg_mpg_by_year('8-cylinder-engines', {'cylinders': '8'})\n",
      "plot_avg_mpg_by_year('combined', {'cylinders': {'$in': ['4','6','8']}}, '--')\n",
      "plt.legend(loc='upper left', ncol=2)\n",
      "plt.tight_layout()"
     ],
     "language": "python",
     "metadata": {},
     "outputs": []
    }
   ],
   "metadata": {}
  }
 ]
}