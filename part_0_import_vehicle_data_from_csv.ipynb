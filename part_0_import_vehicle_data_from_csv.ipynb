{
 "metadata": {
  "name": ""
 },
 "nbformat": 3,
 "nbformat_minor": 0,
 "worksheets": [
  {
   "cells": [
    {
     "cell_type": "markdown",
     "metadata": {},
     "source": [
      "## Exploring & Visualizing Data from MongoDB Using iPython Notebook ##\n",
      "# Part 0: Importing Vehicle Data to Mongo from a CSV File #\n",
      "\n",
      "The focus of this talk is to demonstrate reading data directly from Mongo, which of course requires having some data in a Mongo database. We'll be using [data from fueleconomy.gov][1]. I simply downloaded the [ZIP file of vehicle data in CSV format][2] and unzipped it into the same folder as this notebook file. You may want to refer to the [documentation for the vehicle data][3].\n",
      "\n",
      "To run this yourself, just do the following:\n",
      "\n",
      "1.  Make sure you have `vehicles.csv` in the same directory as this notebook.  You'll need to un-gzip it using:\n",
      "    <pre>gunzip -c vehicles.csv.gz > vehicles.csv</pre>\n",
      "    (On Windows, use [7-Zip][4].)\n",
      "\n",
      "2.  Make sure you have a mongo server running on `localhost` on port `27017`. (If you're running one elsewhere, you'll just need to change the connection line below.\n",
      "\n",
      "3.  Run this script by choosing from the menu above \"Cell\" > \"Run All\".\n",
      "\n",
      "[1]: http://www.fueleconomy.gov/feg/ws/index.shtml\n",
      "[2]: http://www.fueleconomy.gov/feg/epadata/vehicles.csv.zip\n",
      "[3]: http://www.fueleconomy.gov/feg/ws/index.shtml#vehicle\n",
      "[4]: http://www.7-zip.org/"
     ]
    },
    {
     "cell_type": "markdown",
     "metadata": {},
     "source": [
      "## Connect to Mongo ##\n",
      "\n",
      "First, we'll connect to Mongo on the default host and port. If you need to connect a server other than `localhost` and/or a port other than `27017`, you'll need to explicitly specify them with `MongoClient(server, port)`."
     ]
    },
    {
     "cell_type": "code",
     "collapsed": false,
     "input": [
      "from pymongo import MongoClient\n",
      "\n",
      "mongo_client = MongoClient()\n",
      "db = mongo_client.october_mug_talk"
     ],
     "language": "python",
     "metadata": {},
     "outputs": []
    },
    {
     "cell_type": "markdown",
     "metadata": {},
     "source": [
      "## Import the Data ##\n",
      "\n",
      "Before importing from the CSV file, let's clear out anything that might already be in the collection from a previous import:"
     ]
    },
    {
     "cell_type": "code",
     "collapsed": false,
     "input": [
      "db.vehicles.drop()"
     ],
     "language": "python",
     "metadata": {},
     "outputs": []
    },
    {
     "cell_type": "markdown",
     "metadata": {},
     "source": [
      "Python's `csv` module makes importing from a CSV file trivially simple. The `csv.DictReader` class automatically interprets the first record as the column names, returning the remaining records as Python `dict`s (where the column names are the keys). The dicts can then be directly inserted into our collections.\n",
      "\n",
      "Note that `insert()` can accept any iterable for easily inserting multiple documents."
     ]
    },
    {
     "cell_type": "code",
     "collapsed": false,
     "input": [
      "import csv\n",
      "with open('vehicles.csv') as f:\n",
      "    records = csv.DictReader(f)\n",
      "    db.vehicles.insert(records)"
     ],
     "language": "python",
     "metadata": {},
     "outputs": []
    },
    {
     "cell_type": "markdown",
     "metadata": {},
     "source": [
      "## Some Notes ##\n",
      "\n",
      "Even though Mongo documents are ordered, Python `dict`s are not. This means the column order won't be preserved when using `DictReader`. Also, since CSV records are inherently flat, so too will your Mongo documents be. If you want to create ordered and/or nested documents from a CSV file, you can manually compose an instance of [`pymongo.bson.son.SON`][1] for each record.\n",
      "\n",
      "Python can also very easily import JSON documents\u2014just check out the [`json` package][2].\n",
      "\n",
      "[1]: http://api.mongodb.org/python/current/api/bson/son.html\n",
      "[2]: http://docs.python.org/2/library/json.html"
     ]
    }
   ],
   "metadata": {}
  }
 ]
}